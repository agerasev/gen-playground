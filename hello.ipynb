{
 "cells": [
  {
   "cell_type": "code",
   "execution_count": 1,
   "metadata": {},
   "outputs": [],
   "source": [
    "import torch as tch"
   ]
  },
  {
   "cell_type": "code",
   "execution_count": 2,
   "metadata": {},
   "outputs": [
    {
     "data": {
      "text/plain": [
       "tensor([[[2.0985e+00, 3.5012e-01],\n",
       "         [1.1723e+00, 3.3622e-02],\n",
       "         [1.8296e-02, 9.8604e-01]],\n",
       "\n",
       "        [[3.2951e-01, 3.3335e-03],\n",
       "         [9.9059e-01, 1.4672e+00],\n",
       "         [4.3526e-02, 2.3417e-02]],\n",
       "\n",
       "        [[2.2328e+00, 3.9800e-02],\n",
       "         [3.9665e-02, 9.3546e-03],\n",
       "         [3.5336e+00, 1.3616e-02]],\n",
       "\n",
       "        [[2.3215e+00, 1.0335e+00],\n",
       "         [2.3326e+00, 3.7219e-02],\n",
       "         [4.6093e+00, 3.5167e-01]]], device='cuda:0')"
      ]
     },
     "execution_count": 2,
     "metadata": {},
     "output_type": "execute_result"
    }
   ],
   "source": [
    "dev = tch.device(\"cuda\")\n",
    "x = tch.randn((4, 3, 2), device=dev)\n",
    "x**2"
   ]
  },
  {
   "cell_type": "code",
   "execution_count": 3,
   "metadata": {},
   "outputs": [
    {
     "name": "stdout",
     "output_type": "stream",
     "text": [
      "Hello from gen-playground:\n",
      "tensor([[[1.2633e+00, 7.4212e-01],\n",
      "         [2.4629e-02, 4.7296e+00],\n",
      "         [8.6443e-01, 3.1417e-02]],\n",
      "\n",
      "        [[1.2766e+00, 1.5404e-02],\n",
      "         [6.7256e-04, 1.4154e+00],\n",
      "         [6.6345e-01, 1.5778e+00]],\n",
      "\n",
      "        [[1.6210e-01, 1.9598e+00],\n",
      "         [1.5232e+00, 8.5044e-01],\n",
      "         [6.0898e-01, 4.8139e-02]],\n",
      "\n",
      "        [[4.6507e-01, 3.4879e-01],\n",
      "         [3.0611e-01, 1.3403e-01],\n",
      "         [6.3620e-01, 1.2906e-01]]], device='cuda:0')\n"
     ]
    }
   ],
   "source": [
    "from genpg import hello\n",
    "hello.main()"
   ]
  },
  {
   "cell_type": "code",
   "execution_count": null,
   "metadata": {},
   "outputs": [],
   "source": []
  }
 ],
 "metadata": {
  "kernelspec": {
   "display_name": ".venv",
   "language": "python",
   "name": "python3"
  },
  "language_info": {
   "codemirror_mode": {
    "name": "ipython",
    "version": 3
   },
   "file_extension": ".py",
   "mimetype": "text/x-python",
   "name": "python",
   "nbconvert_exporter": "python",
   "pygments_lexer": "ipython3",
   "version": "3.10.12"
  }
 },
 "nbformat": 4,
 "nbformat_minor": 2
}
