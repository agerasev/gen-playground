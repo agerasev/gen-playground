{
 "cells": [
  {
   "cell_type": "code",
   "execution_count": 1,
   "metadata": {},
   "outputs": [],
   "source": [
    "import torch as tch"
   ]
  },
  {
   "cell_type": "code",
   "execution_count": 2,
   "metadata": {},
   "outputs": [],
   "source": [
    "from genpg.model import Encoder, Decoder"
   ]
  },
  {
   "cell_type": "code",
   "execution_count": 3,
   "metadata": {},
   "outputs": [],
   "source": [
    "image_dims = (28, 28)\n",
    "latent_dim = 10"
   ]
  },
  {
   "cell_type": "code",
   "execution_count": 4,
   "metadata": {},
   "outputs": [],
   "source": [
    "dev = tch.device(\"cuda\")"
   ]
  },
  {
   "cell_type": "code",
   "execution_count": 5,
   "metadata": {},
   "outputs": [],
   "source": [
    "enc = Encoder(image_dims, latent_dim).to(dev)\n",
    "dec = Decoder(latent_dim, image_dims).to(dev)"
   ]
  },
  {
   "cell_type": "code",
   "execution_count": 8,
   "metadata": {},
   "outputs": [
    {
     "data": {
      "text/plain": [
       "tensor([[[0.0586, 0.0497, 0.0000,  ..., 0.0036, 0.0000, 0.0291],\n",
       "         [0.0863, 0.3439, 0.0000,  ..., 0.0624, 0.0000, 0.0000],\n",
       "         [0.1218, 0.0000, 0.0234,  ..., 0.0066, 0.2231, 0.0615],\n",
       "         ...,\n",
       "         [0.0000, 0.0000, 0.0000,  ..., 0.0000, 0.1584, 0.0923],\n",
       "         [0.0000, 0.0000, 0.0000,  ..., 0.0000, 0.1107, 0.0000],\n",
       "         [0.0000, 0.2073, 0.1094,  ..., 0.1042, 0.0000, 0.0559]],\n",
       "\n",
       "        [[0.0240, 0.0581, 0.0000,  ..., 0.0286, 0.0000, 0.0576],\n",
       "         [0.0917, 0.3334, 0.0000,  ..., 0.0305, 0.0000, 0.0000],\n",
       "         [0.1188, 0.0000, 0.0029,  ..., 0.0000, 0.2356, 0.0487],\n",
       "         ...,\n",
       "         [0.0000, 0.0000, 0.0000,  ..., 0.0000, 0.1485, 0.0851],\n",
       "         [0.0000, 0.0000, 0.0075,  ..., 0.0000, 0.1164, 0.0000],\n",
       "         [0.0000, 0.1915, 0.1059,  ..., 0.1279, 0.0000, 0.0661]]],\n",
       "       device='cuda:0', grad_fn=<ViewBackward0>)"
      ]
     },
     "execution_count": 8,
     "metadata": {},
     "output_type": "execute_result"
    }
   ],
   "source": [
    "\n",
    "\n",
    "batch_size = 2\n",
    "x = tch.rand((batch_size, *image_dims), device=dev)\n",
    "z_mean, z_var = enc.forward(x)\n",
    "z = z_mean + z_var * tch.randn((batch_size, latent_dim), device=dev)\n",
    "y = dec.forward(z)\n",
    "y"
   ]
  },
  {
   "cell_type": "code",
   "execution_count": null,
   "metadata": {},
   "outputs": [],
   "source": []
  }
 ],
 "metadata": {
  "kernelspec": {
   "display_name": ".venv",
   "language": "python",
   "name": "python3"
  },
  "language_info": {
   "codemirror_mode": {
    "name": "ipython",
    "version": 3
   },
   "file_extension": ".py",
   "mimetype": "text/x-python",
   "name": "python",
   "nbconvert_exporter": "python",
   "pygments_lexer": "ipython3",
   "version": "3.10.12"
  }
 },
 "nbformat": 4,
 "nbformat_minor": 2
}
