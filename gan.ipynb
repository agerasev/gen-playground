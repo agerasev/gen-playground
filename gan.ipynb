{
 "cells": [
  {
   "cell_type": "code",
   "execution_count": 1,
   "metadata": {},
   "outputs": [],
   "source": [
    "%load_ext autoreload\n",
    "%autoreload 2"
   ]
  },
  {
   "cell_type": "code",
   "execution_count": 2,
   "metadata": {},
   "outputs": [],
   "source": [
    "import numpy as np\n",
    "import torch as tch\n",
    "from torch import nn, Tensor"
   ]
  },
  {
   "cell_type": "code",
   "execution_count": 3,
   "metadata": {},
   "outputs": [],
   "source": [
    "%matplotlib inline\n",
    "from matplotlib import pyplot as plt\n",
    "plt.rcParams[\"figure.figsize\"] = [12, 8]\n",
    "plt.style.use(\"dark_background\")"
   ]
  },
  {
   "cell_type": "code",
   "execution_count": 4,
   "metadata": {},
   "outputs": [],
   "source": [
    "dev = tch.device(\"cuda\")\n",
    "dtype = tch.float32"
   ]
  },
  {
   "cell_type": "code",
   "execution_count": 5,
   "metadata": {},
   "outputs": [],
   "source": [
    "from genpg.dataset import read_train_data, read_test_data\n",
    "\n",
    "(train_labels, train_images) = read_train_data()\n",
    "(test_labels, test_images) = read_test_data()"
   ]
  },
  {
   "cell_type": "code",
   "execution_count": 6,
   "metadata": {},
   "outputs": [],
   "source": [
    "def make_images(img: np.ndarray) -> Tensor:\n",
    "    return tch.from_numpy(img).to(dev).type(dtype) / 255.0"
   ]
  },
  {
   "cell_type": "code",
   "execution_count": 50,
   "metadata": {},
   "outputs": [
    {
     "name": "stdout",
     "output_type": "stream",
     "text": [
      "Decoder(\n",
      "  (mlp): Mlp(\n",
      "    (0): Linear(in_features=128, out_features=256, bias=True)\n",
      "    (1): ReLU()\n",
      "    (2): Linear(in_features=256, out_features=784, bias=True)\n",
      "  )\n",
      "  (up_conv): ConvNet(\n",
      "    (0): Conv2d(16, 8, kernel_size=(5, 5), stride=(1, 1), padding=same)\n",
      "    (1): UpsamplingBilinear2d(scale_factor=2.0, mode='bilinear')\n",
      "    (2): Conv2d(8, 4, kernel_size=(5, 5), stride=(1, 1), padding=same)\n",
      "    (3): UpsamplingBilinear2d(scale_factor=2.0, mode='bilinear')\n",
      "    (4): Conv2d(4, 1, kernel_size=(5, 5), stride=(1, 1), padding=same)\n",
      "  )\n",
      ")\n",
      "Encoder(\n",
      "  (conv): ConvNet(\n",
      "    (0): Conv2d(1, 2, kernel_size=(3, 3), stride=(1, 1), padding=same)\n",
      "    (1): MaxPool2d(kernel_size=2, stride=2, padding=0, dilation=1, ceil_mode=False)\n",
      "    (2): Conv2d(2, 4, kernel_size=(3, 3), stride=(1, 1), padding=same)\n",
      "    (3): MaxPool2d(kernel_size=2, stride=2, padding=0, dilation=1, ceil_mode=False)\n",
      "    (4): Conv2d(4, 8, kernel_size=(3, 3), stride=(1, 1), padding=same)\n",
      "    (5): MaxPool2d(kernel_size=2, stride=2, padding=0, dilation=1, ceil_mode=False)\n",
      "    (6): Conv2d(8, 16, kernel_size=(3, 3), stride=(1, 1), padding=same)\n",
      "  )\n",
      "  (mlp): Mlp(\n",
      "    (0): Linear(in_features=144, out_features=32, bias=True)\n",
      "    (1): ReLU()\n",
      "    (2): Linear(in_features=32, out_features=1, bias=True)\n",
      "  )\n",
      ")\n"
     ]
    }
   ],
   "source": [
    "from genpg.model import Encoder, Decoder\n",
    "\n",
    "image_dims = test_images.shape[1:]\n",
    "latent_dim = 128\n",
    "\n",
    "gen = Decoder([latent_dim, 256, 784], [[16, 8], [8, 4], [4, 1]], 5, image_dims).to(dev)\n",
    "print(gen)\n",
    "dis = Encoder(image_dims, [[1, 2], [2, 4], [4, 8], [8, 16]], 3, [144, 32, 1]).to(dev)\n",
    "print(dis)"
   ]
  },
  {
   "cell_type": "code",
   "execution_count": 51,
   "metadata": {},
   "outputs": [],
   "source": [
    "batch_size = 256\n",
    "ratio = 1.0\n",
    "\n",
    "gen_optim = tch.optim.AdamW(\n",
    "    gen.parameters(),\n",
    "    lr=4e-4,\n",
    ")\n",
    "dis_optim = tch.optim.AdamW(\n",
    "    dis.parameters(),\n",
    "    lr=5e-5,\n",
    ")"
   ]
  },
  {
   "cell_type": "code",
   "execution_count": 52,
   "metadata": {},
   "outputs": [],
   "source": [
    "def sample_fig(z: Tensor):\n",
    "    gen.train(False)\n",
    "\n",
    "    n = z.shape[0]\n",
    "    images = gen.forward(z).detach().to(\"cpu\").numpy()\n",
    "    fig, axs = plt.subplots(1, n)\n",
    "    for i in range(n):\n",
    "        ax = axs[i]\n",
    "        ax.axis('off')\n",
    "        ax.imshow(images[i], interpolation='nearest')\n",
    "\n",
    "    return fig"
   ]
  },
  {
   "cell_type": "code",
   "execution_count": 53,
   "metadata": {},
   "outputs": [
    {
     "data": {
      "text/plain": [
       "'epoch = 99'"
      ]
     },
     "metadata": {},
     "output_type": "display_data"
    },
    {
     "data": {
      "text/plain": [
       "{'loss': np.float64(0.6929473892171332)}"
      ]
     },
     "metadata": {},
     "output_type": "display_data"
    },
    {
     "data": {
      "image/png": "[encoded data removed]",
      "text/plain": [
       "<Figure size 1200x800 with 10 Axes>"
      ]
     },
     "metadata": {},
     "output_type": "display_data"
    }
   ],
   "source": [
    "from torch.nn.functional import binary_cross_entropy_with_logits as bce_with_logits\n",
    "from genpg.dataset import generate_batches\n",
    "from genpg.utils import Accum\n",
    "from IPython.display import display, clear_output\n",
    "\n",
    "test_noise = tch.randn((10, latent_dim), device=dev)\n",
    "\n",
    "for epoch in range(100):\n",
    "\n",
    "    gen.train(True)\n",
    "    dis.train(True)\n",
    "\n",
    "    stats = Accum(\"loss\")\n",
    "    for labels, images in generate_batches(batch_size, train_labels, train_images):\n",
    "        images = make_images(images)\n",
    "\n",
    "        gen.zero_grad()\n",
    "        dis.zero_grad()\n",
    "\n",
    "        z = tch.randn((int(batch_size * ratio), latent_dim), device=dev)\n",
    "        x_fake = gen.forward(z)\n",
    "\n",
    "        x_real = images\n",
    "        x = tch.cat((x_real, x_fake), 0)\n",
    "        labels = tch.cat((tch.zeros(x_real.shape[0]), tch.ones(x_fake.shape[0])), 0).to(dev)\n",
    "        logits = dis.forward(x).squeeze(1)\n",
    "\n",
    "        loss = bce_with_logits(logits, labels)\n",
    "\n",
    "        loss.backward()\n",
    "        dis_optim.step()\n",
    "\n",
    "        for p in gen.parameters():\n",
    "            p.grad = (-p.grad).detach()\n",
    "        gen_optim.step()\n",
    "\n",
    "        stats.append(loss.item())\n",
    "\n",
    "    clear_output()\n",
    "    display(f\"{epoch = }\", )\n",
    "    display(stats.mean())\n",
    "    display(sample_fig(test_noise))\n",
    "    plt.close()"
   ]
  },
  {
   "cell_type": "code",
   "execution_count": 54,
   "metadata": {},
   "outputs": [
    {
     "data": {
      "image/png": "[encoded data removed]",
      "text/plain": [
       "<Figure size 1200x800 with 10 Axes>"
      ]
     },
     "metadata": {},
     "output_type": "display_data"
    }
   ],
   "source": [
    "sample_fig(tch.randn((10, latent_dim), device=dev)).show()"
   ]
  },
  {
   "cell_type": "code",
   "execution_count": null,
   "metadata": {},
   "outputs": [],
   "source": []
  }
 ],
 "metadata": {
  "kernelspec": {
   "display_name": ".venv",
   "language": "python",
   "name": "python3"
  },
  "language_info": {
   "codemirror_mode": {
    "name": "ipython",
    "version": 3
   },
   "file_extension": ".py",
   "mimetype": "text/x-python",
   "name": "python",
   "nbconvert_exporter": "python",
   "pygments_lexer": "ipython3",
   "version": "3.10.12"
  }
 },
 "nbformat": 4,
 "nbformat_minor": 2
}
